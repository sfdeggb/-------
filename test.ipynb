{
 "cells": [
  {
   "cell_type": "code",
   "execution_count": 1,
   "id": "2438ad8b",
   "metadata": {},
   "outputs": [
    {
     "name": "stdout",
     "output_type": "stream",
     "text": [
      "[('人工智能', '技术', '支撑', '新能源汽车产业的', '发展')]\n",
      "[]\n",
      "[]\n"
     ]
    }
   ],
   "source": [
    "import re \n",
    "\n",
    "def extract_entity(text, entities):\n",
    "    for entity in entities:\n",
    "        if entity[\"name\"] == text:\n",
    "            return entity[\"name\"]\n",
    "    return None\n",
    "\n",
    "relationships = []\n",
    "\n",
    "# 1. 技术支撑关系\n",
    "support_patterns = [\n",
    "    r'([^，。]*?)(技术|方法|工艺)(支撑|支持|促进)([^，。]*?)(发展|进步|提升)',\n",
    "    r'([^，。]*?)(通过|基于|利用)([^，。]*?)(技术|方法)(实现|完成)([^，。]*?)'\n",
    "]\n",
    "# text\n",
    "text = \"人工智能技术支撑新能源汽车产业的发展\"\n",
    "# entities\n",
    "entities = [\n",
    "    {\n",
    "        \"name\": \"人工智能\",\n",
    "        \"type\": \"技术\"\n",
    "    },\n",
    "    {\n",
    "        \"name\": \"新能源汽车产业\",\n",
    "        \"type\": \"产业\"\n",
    "    }\n",
    "]\n",
    "\n",
    "for pattern in support_patterns:\n",
    "    matches = re.findall(pattern, text)\n",
    "    print(matches)\n",
    "    for match in matches:\n",
    "        if len(match) >= 4:\n",
    "            source_tech = extract_entity(match[0], entities)\n",
    "            target_tech = extract_entity(match[3], entities)\n",
    "            if source_tech and target_tech:\n",
    "                relationships.append({\n",
    "                    \"source\": source_tech,\n",
    "                    \"target\": target_tech,\n",
    "                    \"relation\": \"技术支撑\",\n",
    "                    \"confidence\": 0.8,\n",
    "                    \"method\": \"rule_based\"\n",
    "                })\n",
    "print(relationships)"
   ]
  },
  {
   "cell_type": "code",
   "execution_count": null,
   "id": "2ddfc265",
   "metadata": {},
   "outputs": [],
   "source": [
    "    # 2. 产业链关系\n",
    "    supply_patterns = [\n",
    "        r'([^，。]*?)(供应|提供|生产)([^，。]*?)(给|向)([^，。]*?)',\n",
    "        r'([^，。]*?)(采购|购买|使用)([^，。]*?)(从|来自)([^，。]*?)'\n",
    "    ]\n",
    "    \n",
    "    for pattern in supply_patterns:\n",
    "        matches = re.findall(pattern, text)\n",
    "        for match in matches:\n",
    "            if len(match) >= 4:\n",
    "                supplier = extract_entity(match[0], entities)\n",
    "                customer = extract_entity(match[4], entities)\n",
    "                if supplier and customer:\n",
    "                    relationships.append({\n",
    "                        \"source\": supplier,\n",
    "                        \"target\": customer,\n",
    "                        \"relation\": \"上游供应\",\n",
    "                        \"confidence\": 0.75,\n",
    "                        \"method\": \"rule_based\"\n",
    "                    })\n",
    "    \n",
    "    return relationships"
   ]
  }
 ],
 "metadata": {
  "kernelspec": {
   "display_name": "base",
   "language": "python",
   "name": "python3"
  },
  "language_info": {
   "codemirror_mode": {
    "name": "ipython",
    "version": 3
   },
   "file_extension": ".py",
   "mimetype": "text/x-python",
   "name": "python",
   "nbconvert_exporter": "python",
   "pygments_lexer": "ipython3",
   "version": "3.12.9"
  }
 },
 "nbformat": 4,
 "nbformat_minor": 5
}
